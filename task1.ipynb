{
 "cells": [
  {
   "cell_type": "markdown",
   "metadata": {},
   "source": [
    "# 0) При реализации алгоритма разрешается использовать только библиотеки из requierments.txt\n",
    "\n",
    "В него входит:\n",
    "1. jupyter - библиотека для показа ноутбуков\n",
    "2. numpy - библиотека для вычислений\n",
    "3. matplotlib - библиотека для визуализации\n",
    "\n",
    "## Установка \n",
    "\n",
    "1. Устанавливаем python3 и virtualenv\n",
    "2. создаем окружение virtualenv --no-site-packages  lin_prog\n",
    "3. активируем окружение source activate lin_prog\n",
    "4. устанавливаем зависимости pip install -r requirements.txt\n",
    "5. запускаем jupyter и начинаем работать jupyter notebook\n",
    "\n"
   ]
  },
  {
   "cell_type": "markdown",
   "metadata": {},
   "source": [
    "# ==========================================================\n",
    "# Задача на МНК (0.4 балла)"
   ]
  },
  {
   "cell_type": "code",
   "execution_count": 1,
   "metadata": {},
   "outputs": [
    {
     "data": {
      "text/plain": [
       "array([ 1000.08685565,   100.01248176,     9.91762813])"
      ]
     },
     "execution_count": 1,
     "metadata": {},
     "output_type": "execute_result"
    }
   ],
   "source": [
    "from math import sin\n",
    "import numpy as np\n",
    "\n",
    "\"\"\"Пусть физический закон описывается зависимостью \n",
    "некоторого измеряемого значения y(x, a) \n",
    "от времени и координаты x при параметрах a:\"\"\"\n",
    "def y(t,a): \n",
    "    return a[2]*sin(t)+a[1]*t +a[0]\n",
    "    \n",
    "\"\"\"\n",
    "Дан набор координат t размера m, значения распределены равномерно). Пусть m = 200.\n",
    "\"\"\"\n",
    "m=200\n",
    "t=[i*10.0/m for i in range(m)]\n",
    "\n",
    "\n",
    "\"\"\"Для каждого момента времени t сгенерируйте соответствующее \n",
    "значение y(t,a) при некоторых параметрах  a_0, a_1, a_2. Для примера: \"\"\"\n",
    "a=[10,100,1000]\n",
    "\n",
    "def get_y (a, σ):\n",
    "    \"\"\"Результаты измерений отличаются от истинных значений в силу действия случайной аддитивной помехи \n",
    "    (случайность подчиняется нормальному закону распределения N(0, σ))\"\"\"\n",
    "    y_real=np.array([y(i,a) for i in t])\n",
    "    y_corr=y_real+np.random.normal(0,σ,m)\n",
    "    return y_real, y_corr\n",
    "\n",
    "#todo -выбрать параметр\n",
    "σ=0.5\n",
    "\n",
    "#генерация значений. изначальные и с помехами\n",
    "y_real, y_corr= get_y(a,σ)\n",
    "\n",
    "\n",
    "def get_params (y_corr, t, method=0):\n",
    "    \"\"\"\n",
    "    По сгенерированному набору точек y_corr дайте оценку параметрам a\n",
    "    закона с учетом знания общей формулы тремя различными способами:\n",
    "    •\tmethod=0 -> сумма квадратов невязок будет минимальна.\n",
    "    •\tmethod=1 -> сумма абсолютных значений невязок будет минимальна.\n",
    "    •\tmethod=2 -> максимальное абсолютное значение невязки будет минимально.\n",
    "    \n",
    "    #todo - написать ф-ю\n",
    "    \"\"\"\n",
    "    result = []\n",
    "    B = np.array([np.sin(t), t, np.ones(m)]).transpose()\n",
    "    \n",
    "    if method == 0:\n",
    "        result = np.dot(np.dot(np.linalg.inv(np.dot(B.transpose(),B)),B.transpose()),y_corr)\n",
    "    if method == 1:\n",
    "        result = [0,0,0]\n",
    "    if method == 2:\n",
    "        result = [0,0,0]\n",
    "    return result\n",
    "\n",
    "get_params(y_corr, t)"
   ]
  },
  {
   "cell_type": "markdown",
   "metadata": {},
   "source": [
    "## Задание 1 (0.2 балла)\n",
    "1.\tПостройте в одной координатной плоскости графики у(t, a) и  оценочные значения y(t,a*) для всех 3 методов\n",
    "\n",
    "2.\tВычислите как отличается каждый из оценочных параметров от своего истинного значения. Как меняется это отличие при изменении σ?\n",
    "3.\tСкорректируйте y_corr[0]  и y_corr[-1] пусть одно из них будет на 50 больше, а другое на 50 меньше. Постройте новые оценочные значения параметров  и соответствующие графики. Какая из оценок получилась более устойчивой к выбросам?\n",
    "\n",
    "## Задание 2 (0.2 балла)\n",
    "Возьмем случайную матрицу A  200x80 и случайный вектор b из распределения N(0,1). \n",
    "\n",
    "1. Решите переопределенную систему тремя способами, минимизируя l1, l2 и linf нормы вектора b – Ax.\n",
    "2. Постройте распределение ошибок для каждого решения.\n",
    "3. Какими свойствами обладают распределения?"
   ]
  },
  {
   "cell_type": "code",
   "execution_count": null,
   "metadata": {
    "collapsed": true
   },
   "outputs": [],
   "source": []
  },
  {
   "cell_type": "markdown",
   "metadata": {},
   "source": [
    "# ============================================================\n",
    "# Задача на Симплекс метод\n",
    "\n",
    "## 1) На вход Вашему функцию должны приходить:\n",
    "\n",
    "0. число переменных = n\n",
    "1. матрица A (n x m) (tsv, вещественные числа)\n",
    "2. вектор  b  ограничений типа неравнство\n",
    "4. вектор c функции полезности для задачи max cx \n",
    "5. алгоритм выбора входящей переменной (правило Бленда, Лексикографический метод)\n",
    "6. (не обязательный параметр) стартовую базисную точку\n",
    "\n",
    "## 2) На выход программа должна выдавать:\n",
    "\n",
    "### Обязательная часть (0.7 баллов):\n",
    "0. Ответ и оптимальную точку при положительных компонентах вектора b\n",
    "1. Количество итераций потребовавшихся для решения задачи\n",
    "2. при n=2 выдавать процесс решения (draw=True)\n",
    "3. Напишите программу которая будет отвечать на вопрос оптимально ли приведенное решение, например\n",
    "\n",
    "\n",
    "### Дополнительная часть  (0.4 балл):\n",
    "0. Максимально использовать матричные вычисления (0.2 балла)\n",
    "1. Работать в случае отрицательных чисел в векторе b (0.2 балла)\n",
    "\n",
    "\n"
   ]
  },
  {
   "cell_type": "code",
   "execution_count": 7,
   "metadata": {},
   "outputs": [],
   "source": [
    "%matplotlib inline\n",
    "import matplotlib.pyplot as plt\n",
    "import matplotlib.lines as mlines\n",
    "\n",
    "#пример из листочка 1\n",
    "A=np.array([[1,2],[2,0.5]])\n",
    "b=np.array([5,8])\n",
    "c=np.array([5,1])\n",
    "\n",
    "# A = np.array([[2,3,1],[4,1,2],[3,4,2.0]])\n",
    "# b= np.array([5, 11, 8])\n",
    "# c = np.array([5,4,3])"
   ]
  },
  {
   "cell_type": "code",
   "execution_count": 13,
   "metadata": {},
   "outputs": [],
   "source": [
    "import numpy as np\n",
    "\n",
    "def pos_val_exists(a):\n",
    "    for val in a:\n",
    "        if val > 0:\n",
    "            return True\n",
    "    return False\n",
    "\n",
    "\n",
    "# для правила Бленда\n",
    "def min_pos_id(a):\n",
    "    for i in range(len(a)):\n",
    "        if a[i] > 0:\n",
    "            return i + 1\n",
    "        \n",
    "\n",
    "# лексикографический метод\n",
    "def choose_lexical(table, n, ent_id):\n",
    "    for row in table:\n",
    "        try:\n",
    "            row = row / row[ent_id]\n",
    "        except ZeroDivisionError:\n",
    "            row = row * np.inf\n",
    "    for i in range(n):\n",
    "        column = table[:,i]\n",
    "\n",
    "\n",
    "def check_unbounded(a, b):\n",
    "    for i in range(len(a)):\n",
    "        if b[i] != 0:\n",
    "            if a[i] / b[i] < 0:\n",
    "                return True\n",
    "    return False\n",
    "        \n",
    "\n",
    "# максимальный из отрицательных из a/b\n",
    "def get_ent(a, b):\n",
    "    ent_id = 0\n",
    "    curr_val = 0\n",
    "    max_val = 0\n",
    "    for i in range(len(a)):\n",
    "        if b[i] != 0:\n",
    "            if a[i] / b[i] < 0:\n",
    "                if max_val == 0:\n",
    "                    curr_val = b[i]\n",
    "                    ent_id = i\n",
    "                    max_val = a[i] / b[i]\n",
    "                if a[i] / b[i] > max_val:\n",
    "                    curr_val = b[i]\n",
    "                    ent_id = i\n",
    "                    max_val = a[i] / b[i]\n",
    "    return curr_val, ent_id + 1\n",
    "\n",
    "# для заполнения ячеек симплекс-таблицы\n",
    "def cross_calc(a, b, c, d):\n",
    "    return ((-a) * b - c * d) / (-a)\n",
    "\n",
    "\n",
    "def solve_lin_prog (A, b, c, method='blend', start_point=None, draw=False):\n",
    "    \"\"\"\n",
    "    Здесь должно быть ваше решение. У всех действий должны быть комментарии. \n",
    "    Код должен быть читабельным, хорошо использовать дополнительные функции если это необходимо\n",
    "    \n",
    "    A, b, c - матрица, b - вектор ограничений типа <= с - функция полезности, задача максимизации\n",
    "    method - 'blend', 'lexical'\n",
    "    start_point - точка\n",
    "    draw -  true/false рисовать ли ответ, только для 2 переменных\n",
    "    \n",
    "    Вывод - вектор на котором достигается максимум, максимальное значение, число итераций\n",
    "    \"\"\"\n",
    "    n = len(c)\n",
    "    m = len(b)\n",
    "    \n",
    "    basic = np.zeros(n)\n",
    "    nonbasic = b\n",
    "    \n",
    "    # точки, найденныйе после каждой итерации, для отрисовки анимации \n",
    "    points = [basic]\n",
    "    \n",
    "    b.shape = (m,1)\n",
    "    \n",
    "    simplex_table = np.vstack((np.hstack((np.array([0]), c)), np.hstack((b, -A))))\n",
    "    \n",
    "    iter_count = 0\n",
    "    res_val = 0\n",
    "    res_point = []\n",
    "    print(simplex_table)\n",
    "    \n",
    "    while pos_val_exists(simplex_table[0][1:]):\n",
    "        ent_id = min_pos_id(simplex_table[0][1:])\n",
    "        leave_id = 0\n",
    "        curr_val = 0\n",
    "        if check_unbounded(simplex_table[:,0][1:], simplex_table[:,ent_id][1:]):\n",
    "            curr_val, leave_id = get_ent(simplex_table[:,0][1:], simplex_table[:,ent_id][1:])\n",
    "            \n",
    "            basic[ent_id - 1] = -(simplex_table[leave_id][0] / simplex_table[leave_id][ent_id])\n",
    "            points.append(basic)\n",
    "            # update simplex-table\n",
    "            simplex_table[:,ent_id] = simplex_table[:,ent_id] / curr_val\n",
    "            simplex_table[leave_id] = simplex_table[leave_id] / (-curr_val)\n",
    "            simplex_table[leave_id][ent_id] = 1 / curr_val\n",
    "            curr_val = simplex_table[leave_id][ent_id]\n",
    "            for i in range(m + 1):\n",
    "                for j in range(n + 1):\n",
    "                    if i != leave_id and j != ent_id:\n",
    "                        simplex_table[i][j] = cross_calc(curr_val, simplex_table[i][j],\n",
    "                                                         simplex_table[leave_id][j], simplex_table[i][ent_id])            \n",
    "        else:\n",
    "            return None\n",
    "        iter_count += 1\n",
    "        print(simplex_table)\n",
    "    \n",
    "    res_val = simplex_table[0][0]\n",
    "    res_point = basic\n",
    "#     if True:\n",
    "#         return simplex_table\n",
    "\n",
    "    x=np.array([4,0])\n",
    "    result=20\n",
    "    num_iter=1\n",
    "    \n",
    "    #тут рисуем анимацию\n",
    "    if draw:\n",
    "        fig, ax= plt.subplots(num_iter+1)\n",
    "        fig.set_figheight(5*(num_iter+1))\n",
    "        fig.set_figwidth(5)\n",
    "        xs=[[0,0],[4,0]]\n",
    "\n",
    "        for i,a in enumerate(ax):\n",
    "#             a.plot([0,5],[5,0],  color='b')\n",
    "#             a.plot([4,0],[0,16], color='b')\n",
    "#             a.plot([0,0],[0,5], color='b')\n",
    "#             a.plot([0,4],[0,0], color='b')\n",
    "            a.plot([0,b[0]/A[0][1]],[b[0]/A[0][0],0],  color='b')\n",
    "            a.plot([b[1]/A[1][0],0],[0,b[1]/A[1][1]], color='b')\n",
    "            a.plot([0,0],[0,b[0]/A[0][1]], color='b')\n",
    "            a.plot([0,b[1]/A[1][1]],[0,0], color='b')\n",
    "            a.axis([-1, 17, -1, 17])\n",
    "            a.set_xlabel('X1')\n",
    "            a.set_ylabel('X2')\n",
    "            a.set_title('Iteration %d x=(%.2f, %.2f)' % (i+1,xs[i][0],xs[i][1]))\n",
    "\n",
    "        ax[0].scatter([0,4,3.66],[5,0,1.33], color='black')\n",
    "        ax[0].scatter([0],[0], color='red')\n",
    "\n",
    "        ax[1].scatter([0,0,3.66],[0,5,1.33], color='black')\n",
    "        ax[1].scatter([4],[0], color='red')\n",
    "\n",
    "\n",
    "        plt.tight_layout()\n",
    "        plt.show()\n",
    "    \n",
    "    return res_point, res_val, iter_count\n",
    "\n",
    "def is_optimal (A,b,c, x):\n",
    "    \"\"\"\n",
    "    Здесь должна быть реализована проверка оптимальности точки. \n",
    "    Алгоритм должен работать для фиксированных n,m за константное время\n",
    "    \"\"\"\n",
    "    return (x==np.array([4,0])).all()"
   ]
  },
  {
   "cell_type": "code",
   "execution_count": 15,
   "metadata": {},
   "outputs": [
    {
     "name": "stdout",
     "output_type": "stream",
     "text": [
      "[[ 0.   5.   1. ]\n",
      " [ 5.  -1.  -2. ]\n",
      " [ 8.  -2.  -0.5]]\n",
      "[[ 20.    -2.5   -0.25]\n",
      " [  1.     0.5   -1.75]\n",
      " [  4.    -0.5   -0.25]]\n"
     ]
    },
    {
     "data": {
      "image/png": "[encoded data removed]",
      "text/plain": [
       "<matplotlib.figure.Figure at 0x7fd7fac57cf8>"
      ]
     },
     "metadata": {},
     "output_type": "display_data"
    },
    {
     "data": {
      "text/plain": [
       "(array([ 4.,  0.]), 20.0, 1)"
      ]
     },
     "execution_count": 15,
     "metadata": {},
     "output_type": "execute_result"
    }
   ],
   "source": [
    "# x, best, n_iter = solve_lin_prog(A,b,c, draw=True)\n",
    "solve_lin_prog(A,b,c, draw=True)"
   ]
  },
  {
   "cell_type": "code",
   "execution_count": 5,
   "metadata": {},
   "outputs": [
    {
     "name": "stdout",
     "output_type": "stream",
     "text": [
      "Точка:  [4 0]\n",
      "Ответ:  20\n",
      "Число итераций:  1\n"
     ]
    }
   ],
   "source": [
    "print (u'Точка: ', x)\n",
    "print (u'Ответ: ', best)\n",
    "print (u'Число итераций: ', n_iter)"
   ]
  },
  {
   "cell_type": "code",
   "execution_count": 6,
   "metadata": {},
   "outputs": [
    {
     "data": {
      "text/plain": [
       "True"
      ]
     },
     "execution_count": 6,
     "metadata": {},
     "output_type": "execute_result"
    }
   ],
   "source": [
    "is_optimal(A,b,c,x)"
   ]
  },
  {
   "cell_type": "markdown",
   "metadata": {
    "collapsed": true
   },
   "source": [
    "## Бонус +1 Балл\n",
    "Напишите программу которая для обоих методов из второй задачи пункта 5 (метод Бланда и лексикографический порядок) будет использовать 2^n-1 итераций (бонус за каждый метод) и напишите обоснование (итого 0.5 балла за каждый метод)"
   ]
  },
  {
   "cell_type": "code",
   "execution_count": null,
   "metadata": {
    "collapsed": true
   },
   "outputs": [],
   "source": []
  }
 ],
 "metadata": {
  "kernelspec": {
   "display_name": "Python 3",
   "language": "python",
   "name": "python3"
  },
  "language_info": {
   "codemirror_mode": {
    "name": "ipython",
    "version": 3
   },
   "file_extension": ".py",
   "mimetype": "text/x-python",
   "name": "python",
   "nbconvert_exporter": "python",
   "pygments_lexer": "ipython3",
   "version": "3.5.2"
  }
 },
 "nbformat": 4,
 "nbformat_minor": 2
}
